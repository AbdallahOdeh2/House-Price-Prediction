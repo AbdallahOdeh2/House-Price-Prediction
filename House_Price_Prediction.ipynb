{
  "cells": [
    {
      "cell_type": "code",
      "execution_count": 1,
      "id": "70c10962",
      "metadata": {
        "colab": {
          "base_uri": "https://localhost:8080/"
        },
        "id": "70c10962",
        "outputId": "e1fe8a63-02b9-48ae-a56a-03dfe06702db"
      },
      "outputs": [
        {
          "output_type": "stream",
          "name": "stdout",
          "text": [
            "Mounted at /content/drive\n"
          ]
        }
      ],
      "source": [
        "import numpy as np \n",
        "import pandas as pd \n",
        "import seaborn as sns\n",
        "import matplotlib.pyplot as plt\n",
        "from sklearn.preprocessing import LabelEncoder\n",
        "from sklearn.linear_model import LinearRegression\n",
        "from sklearn.model_selection import train_test_split\n",
        "from sklearn import metrics\n",
        "from sklearn.ensemble import RandomForestRegressor \n",
        "from sklearn.model_selection import train_test_split, cross_val_score, GridSearchCV\n",
        "from sklearn.metrics import mean_squared_error, r2_score\n",
        "\n",
        "from sklearn.linear_model import LinearRegression, Ridge, Lasso\n",
        "from sklearn.neighbors import KNeighborsRegressor\n",
        "from sklearn.tree import DecisionTreeRegressor\n",
        "from sklearn.svm import SVR\n",
        "from sklearn.ensemble import RandomForestRegressor, GradientBoostingRegressor\n",
        "from xgboost import XGBRegressor\n",
        "import warnings\n",
        "import warnings\n",
        "warnings.filterwarnings(action=\"ignore\")\n",
        "pd.set_option(\"display.max_rows\", 4000)\n",
        "pd.set_option(\"display.max_columns\", 500)\n",
        "pd.set_option(\"display.max_colwidth\", 300)\n",
        "from google.colab import drive\n",
        "drive.mount('/content/drive', force_remount=True)"
      ]
    },
    {
      "cell_type": "code",
      "execution_count": 2,
      "id": "786e61f3",
      "metadata": {
        "id": "786e61f3"
      },
      "outputs": [],
      "source": [
        "train = pd.read_csv('/content/train (1).csv')\n",
        "test = pd.read_csv('/content/test (1).csv')\n",
        "ida = test['Id']"
      ]
    },
    {
      "cell_type": "code",
      "execution_count": 3,
      "id": "b4d5a3c2",
      "metadata": {
        "id": "b4d5a3c2"
      },
      "outputs": [],
      "source": [
        "cat_train=  [ i for i in train.columns if train.dtypes[i]=='object' if train[i].isnull().values.any()]\n",
        "for i in cat_train:\n",
        "    train[i].fillna('no',inplace=True)\n",
        "num_train=  [ i for i in train.columns if train.dtypes[i]!='object' if train[i].isnull().values.any()]\n",
        "for i in num_train:\n",
        "    train[i].fillna(train[i].mean(),inplace=True)"
      ]
    },
    {
      "cell_type": "code",
      "execution_count": 4,
      "id": "046caa0d",
      "metadata": {
        "id": "046caa0d"
      },
      "outputs": [],
      "source": [
        "cat_test=  [ i for i in test.columns if test.dtypes[i]=='object' if test[i].isnull().values.any()]\n",
        "for i in cat_test:\n",
        "    test[i].fillna('no',inplace=True)\n",
        "num_test=  [ i for i in test.columns if test.dtypes[i]=='object' if test[i].isnull().values.any()]    \n",
        "for i in num_train:\n",
        "    test[i].fillna(test[i].mean(),inplace=True) "
      ]
    },
    {
      "cell_type": "code",
      "execution_count": 5,
      "id": "2bf0572d",
      "metadata": {
        "id": "2bf0572d"
      },
      "outputs": [],
      "source": [
        "df = pd.concat([train,test])"
      ]
    },
    {
      "cell_type": "code",
      "execution_count": 6,
      "id": "aaf2614d",
      "metadata": {
        "id": "aaf2614d"
      },
      "outputs": [],
      "source": [
        "df.drop(['Alley','Id','PoolQC','Fence'], axis = 1,inplace  =True)"
      ]
    },
    {
      "cell_type": "code",
      "execution_count": 7,
      "id": "f5c1b3e9",
      "metadata": {
        "id": "f5c1b3e9"
      },
      "outputs": [],
      "source": [
        "col = ['MSZoning', 'Street', 'LotShape', 'LandContour', 'Utilities',\n",
        "       'LotConfig', 'LandSlope', 'Neighborhood', 'Condition1', 'Condition2',\n",
        "       'BldgType', 'HouseStyle', 'RoofStyle', 'RoofMatl', 'Exterior1st',\n",
        "       'Exterior2nd', 'MasVnrType', 'ExterQual', 'ExterCond', 'Foundation',\n",
        "       'BsmtQual', 'BsmtCond', 'BsmtExposure', 'BsmtFinType1', 'BsmtFinType2',\n",
        "       'Heating', 'HeatingQC', 'CentralAir', 'Electrical', 'KitchenQual',\n",
        "       'Functional', 'FireplaceQu', 'GarageType', 'GarageFinish', 'GarageQual',\n",
        "       'GarageCond', 'PavedDrive', 'MiscFeature',\n",
        "       'SaleType', 'SaleCondition']"
      ]
    },
    {
      "cell_type": "code",
      "execution_count": 8,
      "id": "fef2e67a",
      "metadata": {
        "id": "fef2e67a"
      },
      "outputs": [],
      "source": [
        "from sklearn.preprocessing import LabelEncoder\n",
        "for i in col:  \n",
        "    m = LabelEncoder()\n",
        "    m.fit(df[i])\n",
        "    df[i] = m.transform(df[i])"
      ]
    },
    {
      "cell_type": "code",
      "execution_count": 9,
      "id": "484e36fd",
      "metadata": {
        "id": "484e36fd"
      },
      "outputs": [],
      "source": [
        "dff = pd.get_dummies(df)\n",
        "df_tr = dff[dff['SalePrice'].isnull()==False]\n",
        "df_te = dff[dff['SalePrice'].isnull()]\n",
        "df_te.drop(['SalePrice'], axis = 1, inplace = True)"
      ]
    },
    {
      "cell_type": "code",
      "execution_count": 10,
      "id": "43098a94",
      "metadata": {
        "id": "43098a94"
      },
      "outputs": [],
      "source": [
        "a = np.log(df_tr['SalePrice'])\n",
        "x_train, x_test, y_train, y_test = train_test_split(df_tr.drop(['SalePrice'], axis = 1), a, test_size = 0.13, random_state = 0)"
      ]
    },
    {
      "cell_type": "code",
      "execution_count": 11,
      "id": "11947e69",
      "metadata": {
        "colab": {
          "base_uri": "https://localhost:8080/"
        },
        "id": "11947e69",
        "outputId": "3a8f697f-0c34-4d6a-fe24-75d2b3467641"
      },
      "outputs": [
        {
          "output_type": "stream",
          "name": "stdout",
          "text": [
            "RMSE:  0.1144525471305742\n",
            "R2 score:  0.9089162458195599\n"
          ]
        }
      ],
      "source": [
        "gb=GradientBoostingRegressor(n_estimators=300,max_depth=3)\n",
        "gb.fit(x_train,y_train)\n",
        "y_pred_gb=gb.predict(x_test)\n",
        "rmse = np.sqrt(mean_squared_error(y_test, y_pred_gb))\n",
        "print(\"RMSE: \", rmse)\n",
        "r2 = r2_score(y_test, y_pred_gb)\n",
        "print(\"R2 score: \", r2)"
      ]
    },
    {
      "cell_type": "code",
      "execution_count": 12,
      "id": "30409128",
      "metadata": {
        "colab": {
          "base_uri": "https://localhost:8080/"
        },
        "id": "30409128",
        "outputId": "9d07f2b7-4fd3-4a5c-e701-e87114a38407"
      },
      "outputs": [
        {
          "output_type": "stream",
          "name": "stdout",
          "text": [
            "0.1144525471305742\n"
          ]
        },
        {
          "output_type": "execute_result",
          "data": {
            "text/plain": [
              "0.9089162458195599"
            ]
          },
          "metadata": {},
          "execution_count": 12
        }
      ],
      "source": [
        "y_pred = gb.predict(x_test)\n",
        "mse=metrics.mean_squared_error(y_test,y_pred)\n",
        "print(np.sqrt(mse))\n",
        "r2_score(y_test, y_pred)"
      ]
    },
    {
      "cell_type": "code",
      "execution_count": 13,
      "id": "d786949b",
      "metadata": {
        "colab": {
          "base_uri": "https://localhost:8080/"
        },
        "id": "d786949b",
        "outputId": "dcc91eea-d43f-485d-d598-38261cbaba22"
      },
      "outputs": [
        {
          "output_type": "stream",
          "name": "stdout",
          "text": [
            "0.03666946228306961\n"
          ]
        },
        {
          "output_type": "execute_result",
          "data": {
            "text/plain": [
              "0.9913575272325086"
            ]
          },
          "metadata": {},
          "execution_count": 13
        }
      ],
      "source": [
        "y_pred = gb.predict(x_train)\n",
        "mse=metrics.mean_squared_error(y_train,y_pred)\n",
        "print(np.sqrt(mse))\n",
        "r2_score(y_train, y_pred)"
      ]
    },
    {
      "cell_type": "code",
      "execution_count": 14,
      "id": "2a3e6279",
      "metadata": {
        "colab": {
          "base_uri": "https://localhost:8080/",
          "height": 487
        },
        "id": "2a3e6279",
        "outputId": "98be4341-8334-4683-8750-eef2f78a49ad"
      },
      "outputs": [
        {
          "output_type": "display_data",
          "data": {
            "text/plain": [
              "<Figure size 500x500 with 1 Axes>"
            ],
            "image/png": "[encoded data removed]"
          },
          "metadata": {}
        }
      ],
      "source": [
        "from sklearn.model_selection import learning_curve\n",
        "train_sizes, train_scores, test_scores = learning_curve(\n",
        "    estimator=gb,\n",
        "    X=df_tr,\n",
        "    y=a,\n",
        "    cv=5,\n",
        "    scoring=\"neg_root_mean_squared_error\",\n",
        "    train_sizes = [1, 75, 165, 270, 331]\n",
        ")\n",
        "\n",
        "train_mean = -train_scores.mean(axis=1)\n",
        "test_mean = -test_scores.mean(axis=1)\n",
        "\n",
        "plt.subplots(figsize=(5,5))\n",
        "plt.plot(train_sizes, train_mean, label=\"train\")\n",
        "plt.plot(train_sizes, test_mean, label=\"validation\")\n",
        "\n",
        "plt.title(\"Learning Curve\")\n",
        "plt.xlabel(\"Training Set Size\")\n",
        "plt.ylabel(\"RMSE\")\n",
        "plt.legend(loc=\"best\")\n",
        "\n",
        "plt.show()"
      ]
    },
    {
      "cell_type": "code",
      "execution_count": 15,
      "id": "251f46dd",
      "metadata": {
        "id": "251f46dd"
      },
      "outputs": [],
      "source": [
        "a = ida\n",
        "final_predictions= np.exp(gb.predict(df_te))\n",
        "submission = pd.concat([a,pd.Series(final_predictions,name=\"SalePrice\")],axis=1)\n",
        "submission\n",
        "submission.to_csv(\"222.csv\",index=False,header=True)"
      ]
    },
    {
      "cell_type": "code",
      "execution_count": null,
      "id": "0d1b8749",
      "metadata": {
        "id": "0d1b8749"
      },
      "outputs": [],
      "source": []
    },
    {
      "cell_type": "code",
      "execution_count": null,
      "id": "d00faa68",
      "metadata": {
        "id": "d00faa68"
      },
      "outputs": [],
      "source": []
    },
    {
      "cell_type": "code",
      "execution_count": null,
      "id": "4b4eebd5",
      "metadata": {
        "id": "4b4eebd5"
      },
      "outputs": [],
      "source": []
    }
  ],
  "metadata": {
    "kernelspec": {
      "display_name": "Python 3 (ipykernel)",
      "language": "python",
      "name": "python3"
    },
    "language_info": {
      "codemirror_mode": {
        "name": "ipython",
        "version": 3
      },
      "file_extension": ".py",
      "mimetype": "text/x-python",
      "name": "python",
      "nbconvert_exporter": "python",
      "pygments_lexer": "ipython3",
      "version": "3.9.13"
    },
    "colab": {
      "provenance": []
    }
  },
  "nbformat": 4,
  "nbformat_minor": 5
}